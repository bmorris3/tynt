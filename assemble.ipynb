{
 "cells": [
  {
   "cell_type": "code",
   "execution_count": 2,
   "metadata": {},
   "outputs": [],
   "source": [
    "%matplotlib inline\n",
    "import matplotlib.pyplot as plt\n",
    "import numpy as np\n",
    "from astropy.io import fits\n",
    "from astropy.utils.data import download_file"
   ]
  },
  {
   "cell_type": "code",
   "execution_count": 3,
   "metadata": {},
   "outputs": [
    {
     "name": "stderr",
     "output_type": "stream",
     "text": [
      "/Users/bmmorris/anaconda/lib/python3.5/site-packages/bs4/__init__.py:181: UserWarning: No parser was explicitly specified, so I'm using the best available HTML parser for this system (\"lxml\"). This usually isn't a problem, but if you run this code on another system, or in a different virtual environment, it may use a different parser and behave differently.\n",
      "\n",
      "The code that caused this warning is on line 193 of the file /Users/bmmorris/anaconda/lib/python3.5/runpy.py. To get rid of this warning, change code that looks like this:\n",
      "\n",
      " BeautifulSoup(YOUR_MARKUP})\n",
      "\n",
      "to this:\n",
      "\n",
      " BeautifulSoup(YOUR_MARKUP, \"lxml\")\n",
      "\n",
      "  markup_type=markup_type))\n"
     ]
    }
   ],
   "source": [
    "from bs4 import BeautifulSoup\n",
    "\n",
    "bs = BeautifulSoup(open(download_file('http://svo2.cab.inta-csic.es/theory/fps3/fps.php')).read())"
   ]
  },
  {
   "cell_type": "code",
   "execution_count": 4,
   "metadata": {},
   "outputs": [],
   "source": [
    "all_options = [b.attrs['value'] for b in bs.find_all('option')]\n",
    "instruments = all_options[1:all_options.index('', 1)]\n",
    "facilities = all_options[all_options.index('', 1)+1:all_options.index('', 150)]\n",
    "photometric_system = all_options[all_options.index('', 150)+1:]"
   ]
  },
  {
   "cell_type": "code",
   "execution_count": 6,
   "metadata": {},
   "outputs": [
    {
     "name": "stderr",
     "output_type": "stream",
     "text": [
      "WARNING: W42: /var/folders/b3/hq8c10h90xdc3mxwlk53tvzm0000gn/T/tmpnume22hr:2:0: W42: No XML namespace specified [astropy.io.votable.tree]\n"
     ]
    }
   ],
   "source": [
    "from astropy.table import Table\n",
    "\n",
    "bessel_filters = Table.read(download_file('http://svo2.cab.inta-csic.es/theory/fps3/fps.php?PhotSystem=Bessell'), format='votable')\n",
    "bessel_links = [i for i in bessel_filters['TrasmissionCurve'] if 'Generic' in str(i)]"
   ]
  },
  {
   "cell_type": "code",
   "execution_count": 7,
   "metadata": {},
   "outputs": [],
   "source": [
    "include_facilities = facilities #['2MASS', 'SLOAN', 'Kepler', 'TESS']"
   ]
  },
  {
   "cell_type": "code",
   "execution_count": 8,
   "metadata": {},
   "outputs": [
    {
     "data": {
      "text/plain": [
       "['2MASS',\n",
       " 'AAO',\n",
       " 'AKARI',\n",
       " 'Astrosat',\n",
       " 'Atlas',\n",
       " 'BOK',\n",
       " 'CAHA',\n",
       " 'CFHT',\n",
       " 'COBE',\n",
       " 'CRTS',\n",
       " 'CTIO',\n",
       " 'DDO',\n",
       " 'Euclid',\n",
       " 'GAIA',\n",
       " 'GALEX',\n",
       " 'Gemini',\n",
       " 'Gemini,CTIO',\n",
       " 'GTC',\n",
       " 'Herschel',\n",
       " 'Hipparcos',\n",
       " 'HST',\n",
       " 'IAC80',\n",
       " 'ING',\n",
       " 'INT',\n",
       " 'IRAS',\n",
       " 'ISO',\n",
       " 'IUE',\n",
       " 'JWST',\n",
       " 'Keck',\n",
       " 'Kepler',\n",
       " 'KPNO',\n",
       " 'La Silla',\n",
       " 'LasCumbres',\n",
       " 'LBT',\n",
       " 'LCO',\n",
       " 'LICK',\n",
       " 'LSST',\n",
       " 'LT',\n",
       " 'McDonalds',\n",
       " 'MKO',\n",
       " 'MMT',\n",
       " 'MSX',\n",
       " 'NIRT',\n",
       " 'NOT',\n",
       " 'OAF',\n",
       " 'OAJ',\n",
       " 'OSN',\n",
       " 'Palomar',\n",
       " 'PAN-STARRS',\n",
       " 'Paranal',\n",
       " 'ROTSE',\n",
       " 'SAO',\n",
       " 'Scorpio',\n",
       " 'SkyMapper',\n",
       " 'SLOAN',\n",
       " 'SOFIA',\n",
       " 'Spitzer',\n",
       " 'STELLA',\n",
       " 'Subaru',\n",
       " 'Swift',\n",
       " 'TCS',\n",
       " 'TD1',\n",
       " 'TESS',\n",
       " 'TJO',\n",
       " 'TNG',\n",
       " 'TNO',\n",
       " 'TYCHO',\n",
       " 'UKIRT',\n",
       " 'VATT',\n",
       " 'WFIRST',\n",
       " 'WHT',\n",
       " 'WISE',\n",
       " 'WIYN',\n",
       " 'Xinglong',\n",
       " 'XMM']"
      ]
     },
     "execution_count": 8,
     "metadata": {},
     "output_type": "execute_result"
    }
   ],
   "source": [
    "include_facilities"
   ]
  },
  {
   "cell_type": "code",
   "execution_count": 10,
   "metadata": {},
   "outputs": [
    {
     "name": "stdout",
     "output_type": "stream",
     "text": [
      "2MASS\n",
      "AAO\n",
      "AKARI\n",
      "Astrosat\n",
      "Atlas\n",
      "BOK\n",
      "CAHA\n"
     ]
    },
    {
     "name": "stderr",
     "output_type": "stream",
     "text": [
      "WARNING: W42: /Users/bmmorris/.astropy/cache/download/py3/18eab7990e43d3fd5f94b6db0ae8e569:2:0: W42: No XML namespace specified [astropy.io.votable.tree]\n",
      "WARNING: W42: /Users/bmmorris/.astropy/cache/download/py3/512a34e3fe878e17bde973df78b02030:2:0: W42: No XML namespace specified [astropy.io.votable.tree]\n",
      "WARNING: W42: /Users/bmmorris/.astropy/cache/download/py3/41524b460bf5e14216f77c182933d5de:2:0: W42: No XML namespace specified [astropy.io.votable.tree]\n",
      "WARNING: W42: /Users/bmmorris/.astropy/cache/download/py3/3a9fb441a7ef7e0ac1cf62de51e6db06:2:0: W42: No XML namespace specified [astropy.io.votable.tree]\n",
      "WARNING: W42: /Users/bmmorris/.astropy/cache/download/py3/dade9a5ca8a5585029e6ea1ea784a006:2:0: W42: No XML namespace specified [astropy.io.votable.tree]\n",
      "WARNING: W42: /Users/bmmorris/.astropy/cache/download/py3/37147b46a93bc72d526da671c788fdde:2:0: W42: No XML namespace specified [astropy.io.votable.tree]\n",
      "WARNING: W42: /Users/bmmorris/.astropy/cache/download/py3/ae0bfd18701d4d7753ddea2230f732bb:2:0: W42: No XML namespace specified [astropy.io.votable.tree]\n"
     ]
    },
    {
     "name": "stdout",
     "output_type": "stream",
     "text": [
      "CFHT\n",
      "COBE\n",
      "CRTS\n",
      "CTIO\n",
      "DDO\n",
      "Euclid"
     ]
    },
    {
     "name": "stderr",
     "output_type": "stream",
     "text": [
      "WARNING: W42: /Users/bmmorris/.astropy/cache/download/py3/3110b0bfed5fcddcd9d0869fcfe5b083:2:0: W42: No XML namespace specified [astropy.io.votable.tree]\n",
      "WARNING: W42: /Users/bmmorris/.astropy/cache/download/py3/2315524047baef895a17797b2bc27bfc:2:0: W42: No XML namespace specified [astropy.io.votable.tree]\n",
      "WARNING: W42: /Users/bmmorris/.astropy/cache/download/py3/73825b2273770668d333d0cabc5b19cf:2:0: W42: No XML namespace specified [astropy.io.votable.tree]\n",
      "WARNING: W42: /Users/bmmorris/.astropy/cache/download/py3/4f43caf24db11345ebb6d5db85f1e522:2:0: W42: No XML namespace specified [astropy.io.votable.tree]\n",
      "WARNING: W42: /Users/bmmorris/.astropy/cache/download/py3/e6527da93bc4ddfc344d6283b9a0ed63:2:0: W42: No XML namespace specified [astropy.io.votable.tree]\n",
      "WARNING: W42: /Users/bmmorris/.astropy/cache/download/py3/13e5009dbf236ab8162fa9d0a8dc559d:2:0: W42: No XML namespace specified [astropy.io.votable.tree]\n"
     ]
    },
    {
     "name": "stdout",
     "output_type": "stream",
     "text": [
      "\n",
      "GAIA\n",
      "GALEX\n",
      "Gemini\n",
      "Gemini,CTIO\n",
      "GTC\n",
      "Herschel\n",
      "Hipparcos\n",
      "HST"
     ]
    },
    {
     "name": "stderr",
     "output_type": "stream",
     "text": [
      "WARNING: W42: /Users/bmmorris/.astropy/cache/download/py3/c83f2a18d17c84d0aa161da5bf99674c:2:0: W42: No XML namespace specified [astropy.io.votable.tree]\n",
      "WARNING: W42: /Users/bmmorris/.astropy/cache/download/py3/3157e0a62c1b8aa52012935fff43fa74:2:0: W42: No XML namespace specified [astropy.io.votable.tree]\n",
      "WARNING: W42: /Users/bmmorris/.astropy/cache/download/py3/0d7b8fa00b4cecdac64b2440aebd2990:2:0: W42: No XML namespace specified [astropy.io.votable.tree]\n",
      "WARNING: W42: /Users/bmmorris/.astropy/cache/download/py3/e01ce8afa4043acfc0ff15a5e22a5541:2:0: W42: No XML namespace specified [astropy.io.votable.tree]\n",
      "WARNING: W42: /Users/bmmorris/.astropy/cache/download/py3/c0ac291e3d4ace08747e636dfd5c6325:2:0: W42: No XML namespace specified [astropy.io.votable.tree]\n",
      "WARNING: W42: /Users/bmmorris/.astropy/cache/download/py3/e4fbaf424dc4d198f4ecec7703c9698d:2:0: W42: No XML namespace specified [astropy.io.votable.tree]\n",
      "WARNING: W42: /Users/bmmorris/.astropy/cache/download/py3/e26d086efbbe3bfd1bed3936b7f46b14:2:0: W42: No XML namespace specified [astropy.io.votable.tree]\n",
      "WARNING: W42: /Users/bmmorris/.astropy/cache/download/py3/305c6e2cd8fc4cda2c97bf83e6fd26e9:2:0: W42: No XML namespace specified [astropy.io.votable.tree]\n"
     ]
    },
    {
     "name": "stdout",
     "output_type": "stream",
     "text": [
      "\n",
      "IAC80\n",
      "ING\n",
      "INT\n",
      "IRAS\n",
      "ISO\n"
     ]
    },
    {
     "name": "stderr",
     "output_type": "stream",
     "text": [
      "WARNING: W42: /Users/bmmorris/.astropy/cache/download/py3/01ea6d00641a30fdbb83e6edf1af8352:2:0: W42: No XML namespace specified [astropy.io.votable.tree]\n",
      "WARNING: W42: /Users/bmmorris/.astropy/cache/download/py3/7fbe1946e618111868995084139ff77e:2:0: W42: No XML namespace specified [astropy.io.votable.tree]\n",
      "WARNING: W42: /Users/bmmorris/.astropy/cache/download/py3/8242c32ec369c9f9f63a5337ffc02b63:2:0: W42: No XML namespace specified [astropy.io.votable.tree]\n",
      "WARNING: W42: /Users/bmmorris/.astropy/cache/download/py3/14bd540c1b518a039d53e6244fe871eb:2:0: W42: No XML namespace specified [astropy.io.votable.tree]\n",
      "WARNING: W42: /Users/bmmorris/.astropy/cache/download/py3/b4b3974159535833566a81ab7380368c:2:0: W42: No XML namespace specified [astropy.io.votable.tree]\n",
      "WARNING: W42: /Users/bmmorris/.astropy/cache/download/py3/11e68d2c6df0c7fe6ea77b02037964df:2:0: W42: No XML namespace specified [astropy.io.votable.tree]\n"
     ]
    },
    {
     "name": "stdout",
     "output_type": "stream",
     "text": [
      "IUE\n",
      "JWST\n",
      "Keck\n",
      "Kepler\n",
      "KPNO\n",
      "La Silla\n",
      "LasCumbres\n",
      "LBT\n"
     ]
    },
    {
     "name": "stderr",
     "output_type": "stream",
     "text": [
      "WARNING: W42: /Users/bmmorris/.astropy/cache/download/py3/2785cbfca836a634b7aa6b3776518437:2:0: W42: No XML namespace specified [astropy.io.votable.tree]\n",
      "WARNING: W42: /Users/bmmorris/.astropy/cache/download/py3/c4c940228918dc37bb0ff01542dfc832:2:0: W42: No XML namespace specified [astropy.io.votable.tree]\n",
      "WARNING: W42: /Users/bmmorris/.astropy/cache/download/py3/f2cbb03e4223ed97e2667a35987b4fd5:2:0: W42: No XML namespace specified [astropy.io.votable.tree]\n",
      "WARNING: W42: /Users/bmmorris/.astropy/cache/download/py3/f9d1bb19a9db3b527737b4b71070f08b:2:0: W42: No XML namespace specified [astropy.io.votable.tree]\n",
      "WARNING: W42: /Users/bmmorris/.astropy/cache/download/py3/fa550ee05e2fc305ac56c77c202cd215:2:0: W42: No XML namespace specified [astropy.io.votable.tree]\n",
      "WARNING: W42: /Users/bmmorris/.astropy/cache/download/py3/3a44e949eb9535620d87563f66386d23:2:0: W42: No XML namespace specified [astropy.io.votable.tree]\n",
      "WARNING: W42: /Users/bmmorris/.astropy/cache/download/py3/6a18a2f1faa20b4dd1754c914ebd5763:2:0: W42: No XML namespace specified [astropy.io.votable.tree]\n",
      "WARNING: W42: /Users/bmmorris/.astropy/cache/download/py3/1a778e281ccd5a663eee0208533f7382:2:0: W42: No XML namespace specified [astropy.io.votable.tree]\n"
     ]
    },
    {
     "name": "stdout",
     "output_type": "stream",
     "text": [
      "LCO\n",
      "LICK\n",
      "LSST\n",
      "LT\n",
      "McDonalds\n",
      "MKO\n",
      "MMT\n"
     ]
    },
    {
     "name": "stderr",
     "output_type": "stream",
     "text": [
      "WARNING: W42: /Users/bmmorris/.astropy/cache/download/py3/51f95a780d934006ca3ca89b98e0c284:2:0: W42: No XML namespace specified [astropy.io.votable.tree]\n",
      "WARNING: W42: /Users/bmmorris/.astropy/cache/download/py3/727de4e30d90d607f9c4e60f11145dfc:2:0: W42: No XML namespace specified [astropy.io.votable.tree]\n",
      "WARNING: W42: /Users/bmmorris/.astropy/cache/download/py3/3fe2b9a5aac0d63b2f1339a26fcbf9a8:2:0: W42: No XML namespace specified [astropy.io.votable.tree]\n",
      "WARNING: W42: /Users/bmmorris/.astropy/cache/download/py3/c99e52b60c544217b4c8f2e50a54cfbd:2:0: W42: No XML namespace specified [astropy.io.votable.tree]\n",
      "WARNING: W42: /Users/bmmorris/.astropy/cache/download/py3/bcd53ed71eaee7e4aaf2831ffe436d07:2:0: W42: No XML namespace specified [astropy.io.votable.tree]\n",
      "WARNING: W42: /Users/bmmorris/.astropy/cache/download/py3/fda2c5dddf81cc4596e5b898c2c13836:2:0: W42: No XML namespace specified [astropy.io.votable.tree]\n",
      "WARNING: W42: /Users/bmmorris/.astropy/cache/download/py3/0b9bbdd084938f8287382accf99613ca:2:0: W42: No XML namespace specified [astropy.io.votable.tree]\n",
      "WARNING: W42: /Users/bmmorris/.astropy/cache/download/py3/ecea768032c04ac05ece583bc39649a0:2:0: W42: No XML namespace specified [astropy.io.votable.tree]\n"
     ]
    },
    {
     "name": "stdout",
     "output_type": "stream",
     "text": [
      "MSX\n",
      "NIRT\n",
      "NOT\n",
      "OAF\n",
      "OAJ\n",
      "OSN\n",
      "Palomar\n",
      "PAN-STARRS\n",
      "Paranal\n"
     ]
    },
    {
     "name": "stderr",
     "output_type": "stream",
     "text": [
      "WARNING: W42: /Users/bmmorris/.astropy/cache/download/py3/1f9b2e5c4082d6c0cf16c414a2611f70:2:0: W42: No XML namespace specified [astropy.io.votable.tree]\n",
      "WARNING: W42: /Users/bmmorris/.astropy/cache/download/py3/8481b402f78c4c841d7bc63cca77ca3e:2:0: W42: No XML namespace specified [astropy.io.votable.tree]\n",
      "WARNING: W42: /Users/bmmorris/.astropy/cache/download/py3/a2cd54963645e11c96c74cc0f683d205:2:0: W42: No XML namespace specified [astropy.io.votable.tree]\n",
      "WARNING: W42: /Users/bmmorris/.astropy/cache/download/py3/903a353ed58a02f2b0c4ac8a50835e25:2:0: W42: No XML namespace specified [astropy.io.votable.tree]\n",
      "WARNING: W42: /Users/bmmorris/.astropy/cache/download/py3/bd8b357c78c201f7250bf476d9cbd0c7:2:0: W42: No XML namespace specified [astropy.io.votable.tree]\n",
      "WARNING: W42: /Users/bmmorris/.astropy/cache/download/py3/fe6cd439d3391c7ce0cf71403740dbcb:2:0: W42: No XML namespace specified [astropy.io.votable.tree]\n",
      "WARNING: W42: /Users/bmmorris/.astropy/cache/download/py3/bc791e292105dce079570c87ed8bcc56:2:0: W42: No XML namespace specified [astropy.io.votable.tree]\n"
     ]
    },
    {
     "name": "stdout",
     "output_type": "stream",
     "text": [
      "ROTSE\n",
      "SAO\n",
      "Scorpio\n",
      "SkyMapper\n",
      "SLOAN\n",
      "SOFIA\n",
      "Spitzer\n",
      "STELLA\n"
     ]
    },
    {
     "name": "stderr",
     "output_type": "stream",
     "text": [
      "WARNING: W42: /Users/bmmorris/.astropy/cache/download/py3/eb2a95640c84589a760f44c07677f777:2:0: W42: No XML namespace specified [astropy.io.votable.tree]\n",
      "WARNING: W42: /Users/bmmorris/.astropy/cache/download/py3/81e1fec93d656b4b115a15453be3bcaa:2:0: W42: No XML namespace specified [astropy.io.votable.tree]\n",
      "WARNING: W42: /Users/bmmorris/.astropy/cache/download/py3/b68bfaac7fb8b45ecc82ef40c319bd91:2:0: W42: No XML namespace specified [astropy.io.votable.tree]\n",
      "WARNING: W42: /Users/bmmorris/.astropy/cache/download/py3/95c032054d676785a8685f35dbb12f36:2:0: W42: No XML namespace specified [astropy.io.votable.tree]\n",
      "WARNING: W42: /Users/bmmorris/.astropy/cache/download/py3/2c3b1b3c10f014e0cc9803161471e492:2:0: W42: No XML namespace specified [astropy.io.votable.tree]\n",
      "WARNING: W42: /Users/bmmorris/.astropy/cache/download/py3/b16f6fdde156847236c084f11d659dcf:2:0: W42: No XML namespace specified [astropy.io.votable.tree]\n",
      "WARNING: W42: /Users/bmmorris/.astropy/cache/download/py3/0421b08de170cd24cbebbd5311716bef:2:0: W42: No XML namespace specified [astropy.io.votable.tree]\n",
      "WARNING: W42: /Users/bmmorris/.astropy/cache/download/py3/f5d719f9d151a6f990d55baeda21f0e4:2:0: W42: No XML namespace specified [astropy.io.votable.tree]\n"
     ]
    },
    {
     "name": "stdout",
     "output_type": "stream",
     "text": [
      "Subaru\n",
      "Swift\n",
      "TCS\n",
      "TD1\n",
      "TESS\n",
      "TJO\n"
     ]
    },
    {
     "name": "stderr",
     "output_type": "stream",
     "text": [
      "WARNING: W42: /Users/bmmorris/.astropy/cache/download/py3/78e511d238c9951b3f1f27f9dba2da7b:2:0: W42: No XML namespace specified [astropy.io.votable.tree]\n",
      "WARNING: W42: /Users/bmmorris/.astropy/cache/download/py3/9e664cc2aa5d6f76967c4a0fd0f6861b:2:0: W42: No XML namespace specified [astropy.io.votable.tree]\n",
      "WARNING: W42: /Users/bmmorris/.astropy/cache/download/py3/55e84271fb6ad17b98ab3975545cf00b:2:0: W42: No XML namespace specified [astropy.io.votable.tree]\n",
      "WARNING: W42: /Users/bmmorris/.astropy/cache/download/py3/b6c7f58ffce81896b3dc309b157c019c:2:0: W42: No XML namespace specified [astropy.io.votable.tree]\n",
      "WARNING: W42: /Users/bmmorris/.astropy/cache/download/py3/cce16643caf348ce064996053d0c49b2:2:0: W42: No XML namespace specified [astropy.io.votable.tree]\n",
      "WARNING: W42: /Users/bmmorris/.astropy/cache/download/py3/472b3e12fc78ef06c5c9ff8f254ea738:2:0: W42: No XML namespace specified [astropy.io.votable.tree]\n"
     ]
    },
    {
     "name": "stdout",
     "output_type": "stream",
     "text": [
      "TNG\n",
      "TNO\n",
      "TYCHO\n",
      "UKIRT\n",
      "VATT\n",
      "WFIRST\n",
      "WHT\n",
      "WISE\n",
      "WIYN\n"
     ]
    },
    {
     "name": "stderr",
     "output_type": "stream",
     "text": [
      "WARNING: W42: /Users/bmmorris/.astropy/cache/download/py3/160630a4b39cdc089b3d87eb9cb4e4f0:2:0: W42: No XML namespace specified [astropy.io.votable.tree]\n",
      "WARNING: W42: /Users/bmmorris/.astropy/cache/download/py3/3e809f77f8b93c9c9c196fe59e7a3a14:2:0: W42: No XML namespace specified [astropy.io.votable.tree]\n",
      "WARNING: W42: /Users/bmmorris/.astropy/cache/download/py3/2ab0be78498860c6a06e0afb8bc6d232:2:0: W42: No XML namespace specified [astropy.io.votable.tree]\n",
      "WARNING: W42: /Users/bmmorris/.astropy/cache/download/py3/f161b1d9eb0e1531e4142bfb236145e5:2:0: W42: No XML namespace specified [astropy.io.votable.tree]\n",
      "WARNING: W42: /Users/bmmorris/.astropy/cache/download/py3/a8a326ff7dcb575ac2399455518c7f17:2:0: W42: No XML namespace specified [astropy.io.votable.tree]\n",
      "WARNING: W42: /Users/bmmorris/.astropy/cache/download/py3/9a5f258a83fad9b9c293ed5586a1c9d4:2:0: W42: No XML namespace specified [astropy.io.votable.tree]\n",
      "WARNING: W42: /Users/bmmorris/.astropy/cache/download/py3/37b19e47cc56945d9d549b6f880c34b9:2:0: W42: No XML namespace specified [astropy.io.votable.tree]\n",
      "WARNING: W42: /Users/bmmorris/.astropy/cache/download/py3/b965c4377627bc4e42f4f839b98693b0:2:0: W42: No XML namespace specified [astropy.io.votable.tree]\n",
      "WARNING: W42: /Users/bmmorris/.astropy/cache/download/py3/205d5b4f8a79030e7a10559fd8a12e5f:2:0: W42: No XML namespace specified [astropy.io.votable.tree]\n",
      "WARNING: W42: /Users/bmmorris/.astropy/cache/download/py3/3164f4b51e2bd998ebe9a6f436e3bc47:2:0: W42: No XML namespace specified [astropy.io.votable.tree]\n",
      "WARNING: W42: /Users/bmmorris/.astropy/cache/download/py3/4458f5656a90fc18feb4b3cf7eda5849:2:0: W42: No XML namespace specified [astropy.io.votable.tree]\n"
     ]
    },
    {
     "name": "stdout",
     "output_type": "stream",
     "text": [
      "Xinglong\n",
      "XMM\n"
     ]
    }
   ],
   "source": [
    "filters = []\n",
    "\n",
    "for facility in include_facilities: \n",
    "    print(facility)\n",
    "    filters.append(Table.read(download_file('http://svo2.cab.inta-csic.es/theory/fps3/fps.php?Facility={0}'\n",
    "                                    .format(facility.replace(\" \", \"%20\")), timeout=300, cache=True), format='votable'))\n",
    "\n",
    "links = [[i for i in filt['TrasmissionCurve']] \n",
    "         for filt in filters]\n",
    "# print(links)"
   ]
  },
  {
   "cell_type": "code",
   "execution_count": 11,
   "metadata": {},
   "outputs": [],
   "source": [
    "tables = dict()"
   ]
  },
  {
   "cell_type": "code",
   "execution_count": 15,
   "metadata": {},
   "outputs": [],
   "source": [
    "for facility_links in links: \n",
    "    for link in facility_links:\n",
    "        name = link.decode().split('=')[1]\n",
    "        if name not in tables.keys() and name not in ['Scorpio/Comet.CO+']: \n",
    "            path = download_file(link.decode().replace('+', '&#43;'), cache=True)\n",
    "            tables[name] = Table.read(path)"
   ]
  },
  {
   "cell_type": "code",
   "execution_count": 173,
   "metadata": {},
   "outputs": [
    {
     "name": "stderr",
     "output_type": "stream",
     "text": [
      "/Users/bmmorris/anaconda/lib/python3.5/site-packages/ipykernel_launcher.py:33: RuntimeWarning: invalid value encountered in true_divide\n",
      "No handles with labels found to put in legend.\n"
     ]
    },
    {
     "data": {
      "text/plain": [
       "<matplotlib.legend.Legend at 0x12350f748>"
      ]
     },
     "execution_count": 173,
     "metadata": {},
     "output_type": "execute_result"
    },
    {
     "data": {
      "image/png": "[encoded data removed]",
      "text/plain": [
       "<Figure size 576x288 with 2 Axes>"
      ]
     },
     "metadata": {},
     "output_type": "display_data"
    }
   ],
   "source": [
    "rows = dict()\n",
    "n_terms = 10\n",
    "\n",
    "fig, ax = plt.subplots(2, 1, figsize=(8, 4))\n",
    "\n",
    "for k, v in tables.items(): \n",
    "\n",
    "    wl, tr = v['Wavelength'], v['Transmission']\n",
    "    \n",
    "#     ax[0].plot(wl, tr, label=k, color='C0')\n",
    "\n",
    "    diff_wl = np.diff(wl)\n",
    "    \n",
    "    delta_lambda = np.nanmedian(diff_wl[diff_wl != 0])\n",
    "    lambda_0 = wl.min()\n",
    "    n_lambda = len(wl)\n",
    "    \n",
    "    # Create a simplified wavelength grid: \n",
    "    simplified_wavelength = np.arange(lambda_0, (n_lambda + 1) * delta_lambda + lambda_0, delta_lambda)\n",
    "    tr_max = tr.max()\n",
    "    \n",
    "    # Interpolate transmittance onto simplified wavelength grid: \n",
    "    tr_interp = np.interp(simplified_wavelength, wl, tr)\n",
    "    \n",
    "    # Take the DFT of the interpolated transmittance curve\n",
    "    fft = np.fft.fft(tr_interp)[:n_terms]\n",
    "    \n",
    "    # Use the first `n_terms` of the Fourier series to approximate the transmittance curve\n",
    "    ifft = np.fft.ifft(fft, n=len(simplified_wavelength))\n",
    "    ifft_real = ifft.real\n",
    "    \n",
    "    # Scale the resulting reconstructed transmittance curve\n",
    "    normalized_fft = (ifft_real - ifft_real.min()) * tr_max / ifft_real.ptp()\n",
    "    \n",
    "#     ax[0].plot(simplified_wavelength, normalized_fft, ls='--', label=k+' fft', color='C1')\n",
    "\n",
    "#     ax[0].annotate(k.split('.')[1], rotation=90,\n",
    "#                    xy=(simplified_wavelength[np.argmax(normalized_fft)], 0.8 * normalized_fft.max()))\n",
    "    \n",
    "#     ax[1].plot(simplified_wavelength, 100*(np.interp(simplified_wavelength, wl, tr) - normalized_fft), label=k)\n",
    "    \n",
    "    # Save results in a dictionary\n",
    "    row = [n_lambda, lambda_0, delta_lambda, tr_max] + fft.tolist()\n",
    "    rows[k] = row \n",
    "    \n",
    "ax[0].set_ylabel('Transmittance')\n",
    "ax[1].set_ylabel('Approximation\\nError (%)')\n",
    "ax[-1].set_xlabel('Wavelength')\n",
    "ax[1].set_ylim([-10, 10])\n",
    "ax[1].legend(bbox_to_anchor=(1, 0., 0., 1))\n",
    "# plt.savefig('tmp/error.png', bbox_inches='tight', dpi=200)"
   ]
  },
  {
   "cell_type": "code",
   "execution_count": 174,
   "metadata": {},
   "outputs": [
    {
     "data": {
      "text/plain": [
       "14"
      ]
     },
     "execution_count": 174,
     "metadata": {},
     "output_type": "execute_result"
    }
   ],
   "source": [
    "len(rows['SLOAN/SDSS.r'])"
   ]
  },
  {
   "cell_type": "code",
   "execution_count": 175,
   "metadata": {},
   "outputs": [],
   "source": [
    "#bt = fits.BinTableHDU(Table([rows[r] for r in rows if len(rows[r]) == 16]))\n",
    "\n",
    "filtered_table = Table(rows=[[r] + rows[r] for i, r in enumerate(rows) if len(rows[r]) == n_terms + 4])\n",
    "filtered_table.add_index('col0')"
   ]
  },
  {
   "cell_type": "code",
   "execution_count": 176,
   "metadata": {},
   "outputs": [],
   "source": [
    "bt = fits.BinTableHDU(data=filtered_table)\n",
    "\n",
    "bt.writeto('tynt/data/fft.fits', overwrite=True)"
   ]
  },
  {
   "cell_type": "code",
   "execution_count": 177,
   "metadata": {},
   "outputs": [
    {
     "name": "stdout",
     "output_type": "stream",
     "text": [
      "-rw-r--r--  1 bmmorris  staff   928K Jun 11 19:45 tynt/data/fft.fits\n"
     ]
    }
   ],
   "source": [
    "!ls -lh tynt/data/fft*"
   ]
  },
  {
   "cell_type": "code",
   "execution_count": null,
   "metadata": {},
   "outputs": [],
   "source": []
  }
 ],
 "metadata": {
  "kernelspec": {
   "display_name": "Python 3",
   "language": "python",
   "name": "python3"
  },
  "language_info": {
   "codemirror_mode": {
    "name": "ipython",
    "version": 3
   },
   "file_extension": ".py",
   "mimetype": "text/x-python",
   "name": "python",
   "nbconvert_exporter": "python",
   "pygments_lexer": "ipython3",
   "version": "3.5.4"
  }
 },
 "nbformat": 4,
 "nbformat_minor": 2
}
