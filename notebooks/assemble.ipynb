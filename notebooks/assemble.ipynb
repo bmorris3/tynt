{
 "cells": [
  {
   "cell_type": "code",
   "execution_count": null,
   "metadata": {},
   "outputs": [],
   "source": [
    "from tynt import DownloadManager"
   ]
  },
  {
   "cell_type": "code",
   "execution_count": null,
   "metadata": {},
   "outputs": [],
   "source": [
    "# Initialize the filter generator:\n",
    "dm = DownloadManager()"
   ]
  },
  {
   "cell_type": "code",
   "execution_count": 9,
   "metadata": {},
   "outputs": [
    {
     "name": "stdout",
     "output_type": "stream",
     "text": [
      "['2MASS', 'SLOAN', 'Kepler', 'TESS', 'HST', 'JWST', 'LSST', 'Keck', 'WISE', 'WFIRST', 'Spitzer', 'GAIA'] ['Bessel', 'Johnson', 'Cousins']\n"
     ]
    }
   ],
   "source": [
    "# Included filter sets in download: \n",
    "print(dm.include_facilities, dm.include_photsys)"
   ]
  },
  {
   "cell_type": "code",
   "execution_count": null,
   "metadata": {},
   "outputs": [],
   "source": [
    "# Download all of the links to the filter transmission curves\n",
    "dm.download_all_links()\n",
    "\n",
    "# Download all of the filter transmission curve tables\n",
    "dm.download_all_tables()\n",
    "\n",
    "# Take the Fourier transform of each transmission curve, \n",
    "# output to a FITS BinTable object\n",
    "bintable = dm.fft_table()\n",
    "\n",
    "# Write out the BinTable object to a FITS file \n",
    "bintable.writeto('fft.fits', overwrite=True)"
   ]
  }
 ],
 "metadata": {
  "kernelspec": {
   "display_name": "Python 3",
   "language": "python",
   "name": "python3"
  },
  "language_info": {
   "codemirror_mode": {
    "name": "ipython",
    "version": 3
   },
   "file_extension": ".py",
   "mimetype": "text/x-python",
   "name": "python",
   "nbconvert_exporter": "python",
   "pygments_lexer": "ipython3",
   "version": "3.5.4"
  }
 },
 "nbformat": 4,
 "nbformat_minor": 2
}
