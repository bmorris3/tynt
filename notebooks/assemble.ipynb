{
 "cells": [
  {
   "cell_type": "code",
   "execution_count": 1,
   "metadata": {},
   "outputs": [],
   "source": [
    "%matplotlib inline\n",
    "import matplotlib.pyplot as plt\n",
    "import numpy as np\n",
    "from astropy.io import fits\n",
    "from astropy.utils.data import download_file"
   ]
  },
  {
   "cell_type": "code",
   "execution_count": 2,
   "metadata": {},
   "outputs": [
    {
     "name": "stderr",
     "output_type": "stream",
     "text": [
      "/Users/bmmorris/anaconda/lib/python3.5/site-packages/bs4/__init__.py:181: UserWarning: No parser was explicitly specified, so I'm using the best available HTML parser for this system (\"lxml\"). This usually isn't a problem, but if you run this code on another system, or in a different virtual environment, it may use a different parser and behave differently.\n",
      "\n",
      "The code that caused this warning is on line 193 of the file /Users/bmmorris/anaconda/lib/python3.5/runpy.py. To get rid of this warning, change code that looks like this:\n",
      "\n",
      " BeautifulSoup(YOUR_MARKUP})\n",
      "\n",
      "to this:\n",
      "\n",
      " BeautifulSoup(YOUR_MARKUP, \"lxml\")\n",
      "\n",
      "  markup_type=markup_type))\n"
     ]
    }
   ],
   "source": [
    "from bs4 import BeautifulSoup\n",
    "\n",
    "bs = BeautifulSoup(open(download_file('http://svo2.cab.inta-csic.es/theory/fps3/fps.php')).read())"
   ]
  },
  {
   "cell_type": "code",
   "execution_count": 3,
   "metadata": {},
   "outputs": [],
   "source": [
    "all_options = [b.attrs['value'] for b in bs.find_all('option')]\n",
    "instruments = all_options[1:all_options.index('', 1)]\n",
    "facilities = all_options[all_options.index('', 1)+1:all_options.index('', 150)]\n",
    "photometric_system = all_options[all_options.index('', 150)+1:]"
   ]
  },
  {
   "cell_type": "code",
   "execution_count": 4,
   "metadata": {},
   "outputs": [
    {
     "name": "stderr",
     "output_type": "stream",
     "text": [
      "WARNING: W42: /var/folders/b3/hq8c10h90xdc3mxwlk53tvzm0000gn/T/tmpl1j88qzl:2:0: W42: No XML namespace specified [astropy.io.votable.tree]\n"
     ]
    }
   ],
   "source": [
    "from astropy.table import Table\n",
    "\n",
    "bessel_filters = Table.read(download_file('http://svo2.cab.inta-csic.es/theory/fps3/fps.php?PhotSystem=Bessell'), format='votable')\n",
    "bessel_links = [i for i in bessel_filters['TrasmissionCurve'] if 'Generic' in str(i)]"
   ]
  },
  {
   "cell_type": "code",
   "execution_count": 28,
   "metadata": {},
   "outputs": [],
   "source": [
    "include_facilities = ['2MASS', 'SLOAN', 'Kepler', 'TESS', 'HST', 'JWST', \n",
    "                      'LSST', 'Keck', 'WISE', 'WFIRST', 'Spitzer', 'GAIA']"
   ]
  },
  {
   "cell_type": "code",
   "execution_count": 29,
   "metadata": {},
   "outputs": [],
   "source": [
    "include_photsys = ['Bessel', 'Johnson', 'Cousins']"
   ]
  },
  {
   "cell_type": "code",
   "execution_count": 30,
   "metadata": {},
   "outputs": [],
   "source": [
    "filters = []\n",
    "\n",
    "for facility in include_facilities: \n",
    "    filters.append(Table.read(download_file('http://svo2.cab.inta-csic.es/theory/fps3/fps.php?Facility={0}'\n",
    "                                    .format(facility.replace(\" \", \"%20\")), timeout=300, cache=True), format='votable'))\n",
    "\n",
    "for photsys in include_photsys: \n",
    "    filters.append(Table.read(download_file('http://svo2.cab.inta-csic.es/theory/fps3/fps.php?PhotSystem={0}'\n",
    "                                    .format(photsys.replace(\" \", \"%20\")), timeout=300, cache=True), format='votable'))\n",
    "\n",
    "\n",
    "    \n",
    "links = [[i for i in filt['TrasmissionCurve']] \n",
    "         for filt in filters]\n",
    "# print(links)"
   ]
  },
  {
   "cell_type": "code",
   "execution_count": 31,
   "metadata": {},
   "outputs": [],
   "source": [
    "tables = dict()"
   ]
  },
  {
   "cell_type": "code",
   "execution_count": 32,
   "metadata": {},
   "outputs": [],
   "source": [
    "for facility_links in links: \n",
    "    for link in facility_links:\n",
    "        name = link.decode().split('=')[1]\n",
    "        if name not in tables.keys() and name not in ['Scorpio/Comet.CO+']: \n",
    "            path = download_file(link.decode().replace('+', '&#43;'), cache=True)\n",
    "            tables[name] = Table.read(path)"
   ]
  },
  {
   "cell_type": "code",
   "execution_count": 33,
   "metadata": {},
   "outputs": [
    {
     "name": "stderr",
     "output_type": "stream",
     "text": [
      "No handles with labels found to put in legend.\n"
     ]
    },
    {
     "data": {
      "text/plain": [
       "<matplotlib.legend.Legend at 0x114e47780>"
      ]
     },
     "execution_count": 33,
     "metadata": {},
     "output_type": "execute_result"
    },
    {
     "data": {
      "image/png": "[encoded data removed]",
      "text/plain": [
       "<Figure size 576x288 with 2 Axes>"
      ]
     },
     "metadata": {},
     "output_type": "display_data"
    }
   ],
   "source": [
    "rows = dict()\n",
    "n_terms = 10\n",
    "\n",
    "fig, ax = plt.subplots(2, 1, figsize=(8, 4))\n",
    "\n",
    "for k, v in tables.items(): \n",
    "\n",
    "    wl, tr = v['Wavelength'], v['Transmission']\n",
    "    \n",
    "#     ax[0].plot(wl, tr, label=k, color='C0')\n",
    "\n",
    "    diff_wl = np.diff(wl)\n",
    "    \n",
    "    delta_lambda = np.nanmedian(diff_wl[diff_wl != 0])\n",
    "    lambda_0 = wl.min()\n",
    "    n_lambda = len(wl)\n",
    "    \n",
    "    # Create a simplified wavelength grid: \n",
    "    simplified_wavelength = np.arange(lambda_0, (n_lambda + 1) * delta_lambda + lambda_0, delta_lambda)\n",
    "    tr_max = tr.max()\n",
    "    \n",
    "    # Interpolate transmittance onto simplified wavelength grid: \n",
    "    tr_interp = np.interp(simplified_wavelength, wl, tr)\n",
    "    \n",
    "    # Take the DFT of the interpolated transmittance curve\n",
    "    fft = np.fft.fft(tr_interp)[:n_terms]\n",
    "    \n",
    "    # Use the first `n_terms` of the Fourier series to approximate the transmittance curve\n",
    "    ifft = np.fft.ifft(fft, n=len(simplified_wavelength))\n",
    "    ifft_real = ifft.real\n",
    "    \n",
    "    # Scale the resulting reconstructed transmittance curve\n",
    "    normalized_fft = (ifft_real - ifft_real.min()) * tr_max / ifft_real.ptp()\n",
    "    \n",
    "#     ax[0].plot(simplified_wavelength, normalized_fft, ls='--', label=k+' fft', color='C1')\n",
    "\n",
    "#     ax[0].annotate(k.split('.')[1], rotation=90,\n",
    "#                    xy=(simplified_wavelength[np.argmax(normalized_fft)], 0.8 * normalized_fft.max()))\n",
    "    \n",
    "#     ax[1].plot(simplified_wavelength, 100*(np.interp(simplified_wavelength, wl, tr) - normalized_fft), label=k)\n",
    "    \n",
    "    # Save results in a dictionary\n",
    "    row = [n_lambda, lambda_0, delta_lambda, tr_max] + fft.tolist()\n",
    "    rows[k] = row \n",
    "    \n",
    "ax[0].set_ylabel('Transmittance')\n",
    "ax[1].set_ylabel('Approximation\\nError (%)')\n",
    "ax[-1].set_xlabel('Wavelength')\n",
    "ax[1].set_ylim([-10, 10])\n",
    "ax[1].legend(bbox_to_anchor=(1, 0., 0., 1))\n",
    "# plt.savefig('tmp/error.png', bbox_inches='tight', dpi=200)"
   ]
  },
  {
   "cell_type": "code",
   "execution_count": 34,
   "metadata": {},
   "outputs": [],
   "source": [
    "filtered_table = Table(rows=[[r] + rows[r] for i, r in enumerate(rows) if len(rows[r]) == n_terms + 4])\n",
    "filtered_table.add_index('col0')"
   ]
  },
  {
   "cell_type": "code",
   "execution_count": 35,
   "metadata": {},
   "outputs": [],
   "source": [
    "bt = fits.BinTableHDU(data=filtered_table)\n",
    "\n",
    "bt.writeto('../tynt/data/fft.fits', overwrite=True)"
   ]
  },
  {
   "cell_type": "code",
   "execution_count": 36,
   "metadata": {},
   "outputs": [
    {
     "name": "stdout",
     "output_type": "stream",
     "text": [
      "-rw-r--r--  1 bmmorris  staff   124K Jun 12 12:15 ../tynt/data/fft.fits\n"
     ]
    }
   ],
   "source": [
    "!ls -lh ../tynt/data/fft*"
   ]
  },
  {
   "cell_type": "code",
   "execution_count": null,
   "metadata": {},
   "outputs": [],
   "source": []
  }
 ],
 "metadata": {
  "kernelspec": {
   "display_name": "Python 3",
   "language": "python",
   "name": "python3"
  },
  "language_info": {
   "codemirror_mode": {
    "name": "ipython",
    "version": 3
   },
   "file_extension": ".py",
   "mimetype": "text/x-python",
   "name": "python",
   "nbconvert_exporter": "python",
   "pygments_lexer": "ipython3",
   "version": "3.5.4"
  }
 },
 "nbformat": 4,
 "nbformat_minor": 2
}
